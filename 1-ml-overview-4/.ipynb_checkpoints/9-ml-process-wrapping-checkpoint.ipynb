{
 "cells": [
  {
   "cell_type": "markdown",
   "metadata": {},
   "source": [
    "# The Machine Learning Process"
   ]
  },
  {
   "cell_type": "markdown",
   "metadata": {},
   "source": [
    "### Introduction"
   ]
  },
  {
   "cell_type": "markdown",
   "metadata": {},
   "source": [
    "Ok, let's dive into machine learning feet first.\n",
    "\n",
    "Let's imagine we are in the business of selling real estate.  We have a list of prospective clients and we want to identify the ones who are most likely to purchase. "
   ]
  },
  {
   "cell_type": "markdown",
   "metadata": {},
   "source": [
    "<img src=\"./leads.jpg\" width=\"40%\">"
   ]
  },
  {
   "cell_type": "markdown",
   "metadata": {},
   "source": [
    "## Our Process"
   ]
  },
  {
   "cell_type": "markdown",
   "metadata": {},
   "source": [
    "### 1. Get the Training Data"
   ]
  },
  {
   "cell_type": "markdown",
   "metadata": {},
   "source": [
    "We look to our past data to try to try to predict if a prospective client is likely to purchase. Here are prospective clients, or *leads*, that we tried to sell to in the past.\n",
    "\n",
    "| Attended College | Under Thirty | Borough   | Income | Customer |\n",
    "| ---------------- | ------------ | --------- | ------ | :------: |\n",
    "| ?                | Yes          | Manhattan | < 55   |    0     |\n",
    "| Yes              | Yes          | Brooklyn  | < 55   |    0     |\n",
    "| ?                | No           | Brooklyn  | < 55   |    1     |\n",
    "\n",
    "Each row of our data represents the characteristics of a different lead.  \n",
    "\n",
    "Let's focus in on the first row in the table above.  We see that:\n",
    "1. We do not know if the lead attended college\n",
    "2. The lead is under 30\n",
    "3. From Manhattan and\n",
    "4. Makes under 55k\n",
    "5. And did not become a customer."
   ]
  },
  {
   "cell_type": "markdown",
   "metadata": {},
   "source": [
    "> The number `0` means that the lead did not become a customer.  The `1` means that she did."
   ]
  },
  {
   "cell_type": "markdown",
   "metadata": {},
   "source": [
    "We call each row of data an **observation** and the entire set of data above our **training data**."
   ]
  },
  {
   "cell_type": "markdown",
   "metadata": {},
   "source": [
    "The idea is to use these past observations to come up with a formula that will come close to predicting our leads will turn into customers, and which will not.  \n",
    "\n",
    "We'll eventually use more than three observations, but this is a fine place to start. "
   ]
  },
  {
   "cell_type": "markdown",
   "metadata": {},
   "source": [
    "> The first step in machine learning is to collect our **training data**.  Notice that for each **observation** in our training data, we have both the past inputs, as well as the past outcome that occurred."
   ]
  },
  {
   "cell_type": "markdown",
   "metadata": {},
   "source": [
    "### 2. Train an algorithm"
   ]
  },
  {
   "cell_type": "markdown",
   "metadata": {},
   "source": [
    "Let's take another look at our data. \n",
    "\n",
    "| Attended College | Under Thirty | Borough   | Income | Customer |\n",
    "| ---------------- | ------------ | --------- | ------ | :------: |\n",
    "| ?                | Yes          | Manhattan | < 55   |    0     |\n",
    "| Yes              | Yes          | Brooklyn  | < 55   |    0     |\n",
    "| ?                | No           | Brooklyn  | < 55   |    1     |"
   ]
  },
  {
   "cell_type": "markdown",
   "metadata": {},
   "source": [
    "Ok, now really imagine that you are a sales person and want to use past data to identify your ideal customers.  One approach might be to look at the past data, and then go through each column to see if there's a characteristic that distinguishes customers from non-customers.\n",
    "\n",
    "Do you see any?  "
   ]
  },
  {
   "cell_type": "markdown",
   "metadata": {},
   "source": [
    "Well `Under 30` appears to do the best.  Our first two leads who were under 30 did not become a customers, and our one lead over 30 did become a customer."
   ]
  },
  {
   "cell_type": "markdown",
   "metadata": {},
   "source": [
    "> We see this if we split our leads into two piles based on whether or not they are `Under 30`.  "
   ]
  },
  {
   "cell_type": "markdown",
   "metadata": {},
   "source": [
    "<img src=\"./leads-under.png\" width=\"30%\">"
   ]
  },
  {
   "cell_type": "markdown",
   "metadata": {},
   "source": [
    "> Notice that splitting based on age perfectly splits our data between 1s and 0s -- customers and non-customers."
   ]
  },
  {
   "cell_type": "markdown",
   "metadata": {},
   "source": [
    "Believe it or not, this is how a decision tree is trained.  It looks for the features that best split the data.  We'll learn more details about this later."
   ]
  },
  {
   "cell_type": "markdown",
   "metadata": {},
   "source": [
    "The broader point is that we just trained our machine learning algorithm.\n",
    "\n",
    "> In **training** our machine learning algorithm looks at past observations to discover a pattern that can be used to predict the outcomes of these observations."
   ]
  },
  {
   "cell_type": "markdown",
   "metadata": {},
   "source": [
    "### 3. Find a hypothesis function"
   ]
  },
  {
   "cell_type": "markdown",
   "metadata": {},
   "source": [
    "Now that we have looked to our past data to find a pattern, we can use this past pattern to make predictions on our data.  This is our formula:\n",
    "\n",
    "Take a lead, and predict that: \n",
    "* If he is under 30, he *will* become a customer\n",
    "* If he is over 30, he *will not* become a customer "
   ]
  },
  {
   "cell_type": "markdown",
   "metadata": {},
   "source": [
    "Or if you prefer a diagram:"
   ]
  },
  {
   "cell_type": "markdown",
   "metadata": {},
   "source": [
    "<img src=\"./under-30.png\" width=\"30%\">"
   ]
  },
  {
   "cell_type": "markdown",
   "metadata": {},
   "source": [
    "That works."
   ]
  },
  {
   "cell_type": "markdown",
   "metadata": {},
   "source": [
    "This is called the hypothesis function of machine learning algorithm.\n",
    "\n",
    "> Our **hypothesis function** takes in our observations and comes close to predicting their output.\n",
    "\n",
    "While we can try our hypothesis function on our past data, to see how it does.  Note that we already *know* if these leads in our training data became customers or not.  It's right there in our chart: "
   ]
  },
  {
   "cell_type": "markdown",
   "metadata": {},
   "source": [
    "| Attended College | Under Thirty | Borough   | Income | Customer |\n",
    "| ---------------- | ------------ | --------- | ------ | :------: |\n",
    "| ?                | Yes          | Manhattan | < 55   |    0     |\n",
    "| Yes              | Yes          | Brooklyn  | < 55   |    0     |\n",
    "| ?                | No           | Brooklyn  | < 55   |    1     |"
   ]
  },
  {
   "cell_type": "markdown",
   "metadata": {},
   "source": [
    "The point is to be able to take new data, where we do not know the outcome, but can use information about our lead to determine if he will become a customer.  For example, let's say two new leads just came in:"
   ]
  },
  {
   "cell_type": "markdown",
   "metadata": {},
   "source": [
    "| Attended College | Under Thirty | Borough   | Income |\n",
    "| ---------------- | ------------ | --------- | ------ |\n",
    "| No                | Yes          | Brooklyn | > 55   |\n",
    "| Yes              | No          | Brooklyn  | > 55   |"
   ]
  },
  {
   "cell_type": "markdown",
   "metadata": {},
   "source": [
    "We would feed this through our hypothesis function, and predict that the first lead will become a customer (as she is under 30), and that the second lead would not, as he is not under 30."
   ]
  },
  {
   "cell_type": "markdown",
   "metadata": {},
   "source": [
    "<img src=\"./under-30.png\" width=\"30%\">"
   ]
  },
  {
   "cell_type": "markdown",
   "metadata": {},
   "source": [
    "### Wrapping Up"
   ]
  },
  {
   "cell_type": "markdown",
   "metadata": {},
   "source": [
    "So can we really begin to make prediction based on just three past observations?  Well, no. \n",
    "\n",
    "But the process will stay the same.  And notice that this process is similar to what we as humans would do:\n",
    "\n",
    "Want to predict future outcomes?  Well, look to the past observations to find the attributes that are associated with one outcome versus another.  And then use those attributes to predict future outcomes.\n",
    "\n",
    "Here, this was **gathering our training data**, **training our algorithm**, and  "
   ]
  },
  {
   "cell_type": "markdown",
   "metadata": {},
   "source": [
    "### Wrapping Up"
   ]
  },
  {
   "cell_type": "markdown",
   "metadata": {},
   "source": [
    "Let's get a couple things out of the way:\n",
    "\n",
    "1. Algorithm vs Model\n",
    "\n",
    "* We'll call a machine learning **algorithm** the combination of the training procedure and hypothesis function that predicts future outcomes.\n",
    "* A specific *example* of this algorithm, trained on specific data, that has a specific hypothesis function is a machine learning **model**.  \n",
    "\n",
    "So all decision trees will follow a training procedure of finding features that best separate the data.  But our specific *model* was trained on the three observations above and found the hypothesis function below:\n",
    "\n",
    "<img src=\"./under-30.png\" width=\"30%\">"
   ]
  },
  {
   "cell_type": "markdown",
   "metadata": {},
   "source": [
    "2. Our training data"
   ]
  },
  {
   "cell_type": "markdown",
   "metadata": {},
   "source": [
    "Remember that the general idea in machine learning is to start with training data, and use past observations to find a pattern that will allow us to predict future outcomes.\n",
    "\n",
    "| Attended College | Under Thirty | Borough   | Income | Customer |\n",
    "| ---------------- | ------------ | --------- | ------ | :------: |\n",
    "| ?                | Yes          | Manhattan | < 55   |    0     |\n",
    "| Yes              | Yes          | Brooklyn  | < 55   |    0     |\n",
    "| ?                | No           | Brooklyn  | < 55   |    1     |\n",
    "\n",
    "\n",
    "Notice that we seem to be distinguishing our inputs (the first four columns) from the output of whether someone became a customer.  This is typical in machine learning.  We call the input columns our **features** and the output we are trying to predict our **target**. "
   ]
  },
  {
   "cell_type": "markdown",
   "metadata": {},
   "source": [
    "Once we have our training data, we then can train a decision tree model by finding the feature that most splits the data, and use that to arrive at a hypothesis function."
   ]
  },
  {
   "cell_type": "markdown",
   "metadata": {},
   "source": [
    "### Summary"
   ]
  },
  {
   "cell_type": "markdown",
   "metadata": {},
   "source": [
    "In this lesson, we learned the general process for training a machine learning algorithm.  We begin with our training data which is a collection of observations.  Each observation consists of one or more features, and an associated outcome called a target.  \n",
    "\n",
    "We train our machine learning model by seeing what features are associated with what target values.  In a decision tree, we do this by seeing which features can most separate our target values. \n",
    "\n",
    "<img src=\"./leads-under.png\" width=\"30%\">"
   ]
  },
  {
   "cell_type": "markdown",
   "metadata": {},
   "source": [
    "Then through training our model trains it's hypothesis function, which allows it to predict the target values of future data."
   ]
  }
 ],
 "metadata": {
  "kernelspec": {
   "display_name": "Python 3",
   "language": "python",
   "name": "python3"
  },
  "language_info": {
   "codemirror_mode": {
    "name": "ipython",
    "version": 3
   },
   "file_extension": ".py",
   "mimetype": "text/x-python",
   "name": "python",
   "nbconvert_exporter": "python",
   "pygments_lexer": "ipython3",
   "version": "3.7.4"
  }
 },
 "nbformat": 4,
 "nbformat_minor": 4
}
